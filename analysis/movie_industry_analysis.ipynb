{
 "cells": [
  {
   "cell_type": "markdown",
   "metadata": {},
   "source": [
    "# Insights on the Profitability of Movies from the Year 1920 to 2020\n",
    "\n",
    "#### Author:Rose Kyalo"
   ]
  },
  {
   "cell_type": "markdown",
   "metadata": {},
   "source": [
    "![Movie Analysis](/visualizations/readme_image.webp)\n"
   ]
  },
  {
   "cell_type": "markdown",
   "metadata": {},
   "source": [
    "## Overview\n",
    "We will be utilizing \"The Numbers Movie Budget\" dataset from The Numbers website, which is in CSV format. Our objective is to analyze the data using the Pandas DataFrame to assist our company X in determining the types of films that are currently thriving and suitable for producing in their studio."
   ]
  },
  {
   "cell_type": "markdown",
   "metadata": {},
   "source": [
    "To achieve this, we will address the following key questions:\n",
    "\n",
    "1. What types of movies are currently performing exceptionally well in terms of popularity and profitability?\n",
    "\n",
    "2. How has the profitability of movie production evolved over time, from 1920 to 2020?\n",
    "\n",
    "3. Does the production budget significantly influence the overall profit of movies?"
   ]
  },
  {
   "cell_type": "markdown",
   "metadata": {},
   "source": [
    "By answering these questions, we aim to provide valuable insights to our company X, enabling them to make informed decisions and strategize their movie production endeavors effectively."
   ]
  },
  {
   "cell_type": "code",
   "execution_count": 1,
   "metadata": {},
   "outputs": [],
   "source": [
    "# Import the neccessary modules.\n",
    "import pandas as pd\n",
    "import matplotlib.pyplot as plt\n",
    "import seaborn as sns"
   ]
  },
  {
   "cell_type": "code",
   "execution_count": 2,
   "metadata": {},
   "outputs": [
    {
     "data": {
      "text/html": [
       "<div>\n",
       "<style scoped>\n",
       "    .dataframe tbody tr th:only-of-type {\n",
       "        vertical-align: middle;\n",
       "    }\n",
       "\n",
       "    .dataframe tbody tr th {\n",
       "        vertical-align: top;\n",
       "    }\n",
       "\n",
       "    .dataframe thead th {\n",
       "        text-align: right;\n",
       "    }\n",
       "</style>\n",
       "<table border=\"1\" class=\"dataframe\">\n",
       "  <thead>\n",
       "    <tr style=\"text-align: right;\">\n",
       "      <th></th>\n",
       "      <th>id</th>\n",
       "      <th>release_date</th>\n",
       "      <th>movie</th>\n",
       "      <th>production_budget</th>\n",
       "      <th>domestic_gross</th>\n",
       "      <th>worldwide_gross</th>\n",
       "    </tr>\n",
       "  </thead>\n",
       "  <tbody>\n",
       "    <tr>\n",
       "      <th>0</th>\n",
       "      <td>1</td>\n",
       "      <td>Dec 18, 2009</td>\n",
       "      <td>Avatar</td>\n",
       "      <td>$425,000,000</td>\n",
       "      <td>$760,507,625</td>\n",
       "      <td>$2,776,345,279</td>\n",
       "    </tr>\n",
       "    <tr>\n",
       "      <th>1</th>\n",
       "      <td>2</td>\n",
       "      <td>May 20, 2011</td>\n",
       "      <td>Pirates of the Caribbean: On Stranger Tides</td>\n",
       "      <td>$410,600,000</td>\n",
       "      <td>$241,063,875</td>\n",
       "      <td>$1,045,663,875</td>\n",
       "    </tr>\n",
       "    <tr>\n",
       "      <th>2</th>\n",
       "      <td>3</td>\n",
       "      <td>Jun 7, 2019</td>\n",
       "      <td>Dark Phoenix</td>\n",
       "      <td>$350,000,000</td>\n",
       "      <td>$42,762,350</td>\n",
       "      <td>$149,762,350</td>\n",
       "    </tr>\n",
       "    <tr>\n",
       "      <th>3</th>\n",
       "      <td>4</td>\n",
       "      <td>May 1, 2015</td>\n",
       "      <td>Avengers: Age of Ultron</td>\n",
       "      <td>$330,600,000</td>\n",
       "      <td>$459,005,868</td>\n",
       "      <td>$1,403,013,963</td>\n",
       "    </tr>\n",
       "    <tr>\n",
       "      <th>4</th>\n",
       "      <td>5</td>\n",
       "      <td>Dec 15, 2017</td>\n",
       "      <td>Star Wars Ep. VIII: The Last Jedi</td>\n",
       "      <td>$317,000,000</td>\n",
       "      <td>$620,181,382</td>\n",
       "      <td>$1,316,721,747</td>\n",
       "    </tr>\n",
       "  </tbody>\n",
       "</table>\n",
       "</div>"
      ],
      "text/plain": [
       "   id  release_date                                        movie  \\\n",
       "0   1  Dec 18, 2009                                       Avatar   \n",
       "1   2  May 20, 2011  Pirates of the Caribbean: On Stranger Tides   \n",
       "2   3   Jun 7, 2019                                 Dark Phoenix   \n",
       "3   4   May 1, 2015                      Avengers: Age of Ultron   \n",
       "4   5  Dec 15, 2017            Star Wars Ep. VIII: The Last Jedi   \n",
       "\n",
       "  production_budget domestic_gross worldwide_gross  \n",
       "0      $425,000,000   $760,507,625  $2,776,345,279  \n",
       "1      $410,600,000   $241,063,875  $1,045,663,875  \n",
       "2      $350,000,000    $42,762,350    $149,762,350  \n",
       "3      $330,600,000   $459,005,868  $1,403,013,963  \n",
       "4      $317,000,000   $620,181,382  $1,316,721,747  "
      ]
     },
     "execution_count": 2,
     "metadata": {},
     "output_type": "execute_result"
    }
   ],
   "source": [
    "# Load data. \n",
    "df = pd.read_csv(\"C:/Users/user/Documents/Project/Project-1/data/tn.movie_budgets.csv\")\n",
    "df.head()"
   ]
  },
  {
   "cell_type": "code",
   "execution_count": 3,
   "metadata": {},
   "outputs": [
    {
     "name": "stdout",
     "output_type": "stream",
     "text": [
      "<class 'pandas.core.frame.DataFrame'>\n",
      "RangeIndex: 5782 entries, 0 to 5781\n",
      "Data columns (total 6 columns):\n",
      " #   Column             Non-Null Count  Dtype \n",
      "---  ------             --------------  ----- \n",
      " 0   id                 5782 non-null   int64 \n",
      " 1   release_date       5782 non-null   object\n",
      " 2   movie              5782 non-null   object\n",
      " 3   production_budget  5782 non-null   object\n",
      " 4   domestic_gross     5782 non-null   object\n",
      " 5   worldwide_gross    5782 non-null   object\n",
      "dtypes: int64(1), object(5)\n",
      "memory usage: 271.2+ KB\n"
     ]
    }
   ],
   "source": [
    "# Dataframe information.\n",
    "df.info()"
   ]
  },
  {
   "cell_type": "code",
   "execution_count": 4,
   "metadata": {},
   "outputs": [
    {
     "data": {
      "text/plain": [
       "id     release_date  movie  production_budget  domestic_gross  worldwide_gross\n",
       "False  False         False  False              False           False              5782\n",
       "dtype: int64"
      ]
     },
     "execution_count": 4,
     "metadata": {},
     "output_type": "execute_result"
    }
   ],
   "source": [
    "# Checking for null values in the dataset.\n",
    "df.isnull().value_counts()"
   ]
  },
  {
   "cell_type": "code",
   "execution_count": 5,
   "metadata": {},
   "outputs": [
    {
     "data": {
      "text/plain": [
       "False    5782\n",
       "dtype: int64"
      ]
     },
     "execution_count": 5,
     "metadata": {},
     "output_type": "execute_result"
    }
   ],
   "source": [
    "#Checking for duplicates in the dataset.\n",
    "df.duplicated().value_counts()"
   ]
  },
  {
   "cell_type": "markdown",
   "metadata": {},
   "source": [
    "## Data Understanding\n",
    "\n",
    "The dataframe we are working with comprises 5782 rows and 6 columns.The columns are as follows:\n",
    "\n",
    "1. id - Unique identifier for each movie.\n",
    "\n",
    "2. release_date - Date of movie release.\n",
    "\n",
    "3. movie - Name of the movie.\n",
    "\n",
    "4. production_budget - Production budget of the movie.\n",
    "\n",
    "5. domestic_gross - Domestic gross revenue of the movie.\n",
    "\n",
    "6. worldwide_gross - Worldwide gross revenue of the movie.\n",
    "\n",
    "We are pleased to note that there are no missing values and duplicates in any of the columns. The dataset includes two data types: int64 and object. To facilitate our analysis, we will need to convert the 'production_budget', 'domestic_gross', and 'worldwide_gross' columns to integer data types, allowing us to perform numerical computations efficiently. Additionally, we intend to convert the 'release_date' column to datetime type to enable accurate temporal analysis and date-based calculations. With these data type transformations, we can conduct comprehensive and meaningful analyses on the movie dataset."
   ]
  },
  {
   "cell_type": "markdown",
   "metadata": {},
   "source": [
    "We will convert 'production_budget', 'domestic_gross', and 'worldwide_gross', into integer types.We do so by removing the currency symbols and commas from the values."
   ]
  },
  {
   "cell_type": "code",
   "execution_count": 6,
   "metadata": {
    "scrolled": true
   },
   "outputs": [],
   "source": [
    "# Strip the dollar sign and comma from 'production_budget' column and convert to integer.\n",
    "df.production_budget = df.production_budget.map(lambda x: x.replace(\"$\", \"\").replace(\",\", \"\")).astype(int)"
   ]
  },
  {
   "cell_type": "code",
   "execution_count": 7,
   "metadata": {},
   "outputs": [],
   "source": [
    "# Strip the dollar sign and comma from 'domestic_gross' column and convert to integer.\n",
    "df.domestic_gross = df.domestic_gross.map(lambda x: x.replace(\"$\", \"\").replace(\",\", \"\")).astype(int)"
   ]
  },
  {
   "cell_type": "code",
   "execution_count": 8,
   "metadata": {},
   "outputs": [],
   "source": [
    "# Strip the dollar sign and comma from 'worldwide_gross' column and convert to integer.\n",
    "df.worldwide_gross = df.worldwide_gross.map(lambda x: x.replace(\"$\", \"\").replace(\",\", \"\")).astype(float)"
   ]
  },
  {
   "cell_type": "markdown",
   "metadata": {},
   "source": [
    "Due to the large values present in the 'worldwide_gross' column, it was necessary to convert this column to a float data type, as the integer data type could not accommodate such extensive figures. By converting it to a float, we can retain the precision and integrity of the data, ensuring that no information is lost during the transformation process. This allows us to perform accurate calculations and analyses involving the 'worldwide_gross' values, despite their significant magnitude."
   ]
  },
  {
   "cell_type": "code",
   "execution_count": 9,
   "metadata": {},
   "outputs": [
    {
     "name": "stdout",
     "output_type": "stream",
     "text": [
      "<class 'pandas.core.frame.DataFrame'>\n",
      "RangeIndex: 5782 entries, 0 to 5781\n",
      "Data columns (total 6 columns):\n",
      " #   Column             Non-Null Count  Dtype  \n",
      "---  ------             --------------  -----  \n",
      " 0   id                 5782 non-null   int64  \n",
      " 1   release_date       5782 non-null   object \n",
      " 2   movie              5782 non-null   object \n",
      " 3   production_budget  5782 non-null   int32  \n",
      " 4   domestic_gross     5782 non-null   int32  \n",
      " 5   worldwide_gross    5782 non-null   float64\n",
      "dtypes: float64(1), int32(2), int64(1), object(2)\n",
      "memory usage: 226.0+ KB\n"
     ]
    }
   ],
   "source": [
    "# Checking the data types.\n",
    "df.info()"
   ]
  },
  {
   "cell_type": "markdown",
   "metadata": {},
   "source": [
    "Now that our data is polished and gleaming, we are excited to explore it and find answers to our questions.Get ready for an engaging exploration as we dive into the depths of our data, ready to unveil its secrets!"
   ]
  },
  {
   "cell_type": "code",
   "execution_count": 10,
   "metadata": {},
   "outputs": [],
   "source": [
    "# Calculate the domestic net profit for each movie.\n",
    "df = df.eval(\"domestic_net_profit = domestic_gross - production_budget\")"
   ]
  },
  {
   "cell_type": "code",
   "execution_count": 11,
   "metadata": {},
   "outputs": [
    {
     "data": {
      "text/html": [
       "<div>\n",
       "<style scoped>\n",
       "    .dataframe tbody tr th:only-of-type {\n",
       "        vertical-align: middle;\n",
       "    }\n",
       "\n",
       "    .dataframe tbody tr th {\n",
       "        vertical-align: top;\n",
       "    }\n",
       "\n",
       "    .dataframe thead th {\n",
       "        text-align: right;\n",
       "    }\n",
       "</style>\n",
       "<table border=\"1\" class=\"dataframe\">\n",
       "  <thead>\n",
       "    <tr style=\"text-align: right;\">\n",
       "      <th></th>\n",
       "      <th>id</th>\n",
       "      <th>release_date</th>\n",
       "      <th>movie</th>\n",
       "      <th>production_budget</th>\n",
       "      <th>domestic_gross</th>\n",
       "      <th>worldwide_gross</th>\n",
       "      <th>domestic_net_profit</th>\n",
       "      <th>worldwide_net_profit</th>\n",
       "    </tr>\n",
       "  </thead>\n",
       "  <tbody>\n",
       "    <tr>\n",
       "      <th>0</th>\n",
       "      <td>1</td>\n",
       "      <td>Dec 18, 2009</td>\n",
       "      <td>Avatar</td>\n",
       "      <td>425000000</td>\n",
       "      <td>760507625</td>\n",
       "      <td>2.776345e+09</td>\n",
       "      <td>335507625</td>\n",
       "      <td>2.351345e+09</td>\n",
       "    </tr>\n",
       "    <tr>\n",
       "      <th>1</th>\n",
       "      <td>2</td>\n",
       "      <td>May 20, 2011</td>\n",
       "      <td>Pirates of the Caribbean: On Stranger Tides</td>\n",
       "      <td>410600000</td>\n",
       "      <td>241063875</td>\n",
       "      <td>1.045664e+09</td>\n",
       "      <td>-169536125</td>\n",
       "      <td>6.350639e+08</td>\n",
       "    </tr>\n",
       "    <tr>\n",
       "      <th>2</th>\n",
       "      <td>3</td>\n",
       "      <td>Jun 7, 2019</td>\n",
       "      <td>Dark Phoenix</td>\n",
       "      <td>350000000</td>\n",
       "      <td>42762350</td>\n",
       "      <td>1.497624e+08</td>\n",
       "      <td>-307237650</td>\n",
       "      <td>-2.002376e+08</td>\n",
       "    </tr>\n",
       "    <tr>\n",
       "      <th>3</th>\n",
       "      <td>4</td>\n",
       "      <td>May 1, 2015</td>\n",
       "      <td>Avengers: Age of Ultron</td>\n",
       "      <td>330600000</td>\n",
       "      <td>459005868</td>\n",
       "      <td>1.403014e+09</td>\n",
       "      <td>128405868</td>\n",
       "      <td>1.072414e+09</td>\n",
       "    </tr>\n",
       "    <tr>\n",
       "      <th>4</th>\n",
       "      <td>5</td>\n",
       "      <td>Dec 15, 2017</td>\n",
       "      <td>Star Wars Ep. VIII: The Last Jedi</td>\n",
       "      <td>317000000</td>\n",
       "      <td>620181382</td>\n",
       "      <td>1.316722e+09</td>\n",
       "      <td>303181382</td>\n",
       "      <td>9.997217e+08</td>\n",
       "    </tr>\n",
       "  </tbody>\n",
       "</table>\n",
       "</div>"
      ],
      "text/plain": [
       "   id  release_date                                        movie  \\\n",
       "0   1  Dec 18, 2009                                       Avatar   \n",
       "1   2  May 20, 2011  Pirates of the Caribbean: On Stranger Tides   \n",
       "2   3   Jun 7, 2019                                 Dark Phoenix   \n",
       "3   4   May 1, 2015                      Avengers: Age of Ultron   \n",
       "4   5  Dec 15, 2017            Star Wars Ep. VIII: The Last Jedi   \n",
       "\n",
       "   production_budget  domestic_gross  worldwide_gross  domestic_net_profit  \\\n",
       "0          425000000       760507625     2.776345e+09            335507625   \n",
       "1          410600000       241063875     1.045664e+09           -169536125   \n",
       "2          350000000        42762350     1.497624e+08           -307237650   \n",
       "3          330600000       459005868     1.403014e+09            128405868   \n",
       "4          317000000       620181382     1.316722e+09            303181382   \n",
       "\n",
       "   worldwide_net_profit  \n",
       "0          2.351345e+09  \n",
       "1          6.350639e+08  \n",
       "2         -2.002376e+08  \n",
       "3          1.072414e+09  \n",
       "4          9.997217e+08  "
      ]
     },
     "execution_count": 11,
     "metadata": {},
     "output_type": "execute_result"
    }
   ],
   "source": [
    "# Calculate the worldwide_gross net profit for each movie.\n",
    "df = df.eval(\"worldwide_net_profit = worldwide_gross - production_budget\")\n",
    "df.head()"
   ]
  },
  {
   "cell_type": "code",
   "execution_count": 12,
   "metadata": {
    "scrolled": false
   },
   "outputs": [
    {
     "data": {
      "text/html": [
       "<div>\n",
       "<style scoped>\n",
       "    .dataframe tbody tr th:only-of-type {\n",
       "        vertical-align: middle;\n",
       "    }\n",
       "\n",
       "    .dataframe tbody tr th {\n",
       "        vertical-align: top;\n",
       "    }\n",
       "\n",
       "    .dataframe thead th {\n",
       "        text-align: right;\n",
       "    }\n",
       "</style>\n",
       "<table border=\"1\" class=\"dataframe\">\n",
       "  <thead>\n",
       "    <tr style=\"text-align: right;\">\n",
       "      <th></th>\n",
       "      <th>id</th>\n",
       "      <th>production_budget</th>\n",
       "      <th>domestic_gross</th>\n",
       "      <th>worldwide_gross</th>\n",
       "      <th>domestic_net_profit</th>\n",
       "      <th>worldwide_net_profit</th>\n",
       "    </tr>\n",
       "  </thead>\n",
       "  <tbody>\n",
       "    <tr>\n",
       "      <th>count</th>\n",
       "      <td>5782.000000</td>\n",
       "      <td>5.782000e+03</td>\n",
       "      <td>5.782000e+03</td>\n",
       "      <td>5.782000e+03</td>\n",
       "      <td>5.782000e+03</td>\n",
       "      <td>5.782000e+03</td>\n",
       "    </tr>\n",
       "    <tr>\n",
       "      <th>mean</th>\n",
       "      <td>50.372363</td>\n",
       "      <td>3.158776e+07</td>\n",
       "      <td>4.187333e+07</td>\n",
       "      <td>9.148746e+07</td>\n",
       "      <td>1.028557e+07</td>\n",
       "      <td>5.989970e+07</td>\n",
       "    </tr>\n",
       "    <tr>\n",
       "      <th>std</th>\n",
       "      <td>28.821076</td>\n",
       "      <td>4.181208e+07</td>\n",
       "      <td>6.824060e+07</td>\n",
       "      <td>1.747200e+08</td>\n",
       "      <td>4.992137e+07</td>\n",
       "      <td>1.460889e+08</td>\n",
       "    </tr>\n",
       "    <tr>\n",
       "      <th>min</th>\n",
       "      <td>1.000000</td>\n",
       "      <td>1.100000e+03</td>\n",
       "      <td>0.000000e+00</td>\n",
       "      <td>0.000000e+00</td>\n",
       "      <td>-3.072376e+08</td>\n",
       "      <td>-2.002376e+08</td>\n",
       "    </tr>\n",
       "    <tr>\n",
       "      <th>25%</th>\n",
       "      <td>25.000000</td>\n",
       "      <td>5.000000e+06</td>\n",
       "      <td>1.429534e+06</td>\n",
       "      <td>4.125415e+06</td>\n",
       "      <td>-9.132757e+06</td>\n",
       "      <td>-2.189071e+06</td>\n",
       "    </tr>\n",
       "    <tr>\n",
       "      <th>50%</th>\n",
       "      <td>50.000000</td>\n",
       "      <td>1.700000e+07</td>\n",
       "      <td>1.722594e+07</td>\n",
       "      <td>2.798445e+07</td>\n",
       "      <td>-3.487755e+05</td>\n",
       "      <td>8.550286e+06</td>\n",
       "    </tr>\n",
       "    <tr>\n",
       "      <th>75%</th>\n",
       "      <td>75.000000</td>\n",
       "      <td>4.000000e+07</td>\n",
       "      <td>5.234866e+07</td>\n",
       "      <td>9.764584e+07</td>\n",
       "      <td>1.778144e+07</td>\n",
       "      <td>6.096850e+07</td>\n",
       "    </tr>\n",
       "    <tr>\n",
       "      <th>max</th>\n",
       "      <td>100.000000</td>\n",
       "      <td>4.250000e+08</td>\n",
       "      <td>9.366622e+08</td>\n",
       "      <td>2.776345e+09</td>\n",
       "      <td>6.306622e+08</td>\n",
       "      <td>2.351345e+09</td>\n",
       "    </tr>\n",
       "  </tbody>\n",
       "</table>\n",
       "</div>"
      ],
      "text/plain": [
       "                id  production_budget  domestic_gross  worldwide_gross  \\\n",
       "count  5782.000000       5.782000e+03    5.782000e+03     5.782000e+03   \n",
       "mean     50.372363       3.158776e+07    4.187333e+07     9.148746e+07   \n",
       "std      28.821076       4.181208e+07    6.824060e+07     1.747200e+08   \n",
       "min       1.000000       1.100000e+03    0.000000e+00     0.000000e+00   \n",
       "25%      25.000000       5.000000e+06    1.429534e+06     4.125415e+06   \n",
       "50%      50.000000       1.700000e+07    1.722594e+07     2.798445e+07   \n",
       "75%      75.000000       4.000000e+07    5.234866e+07     9.764584e+07   \n",
       "max     100.000000       4.250000e+08    9.366622e+08     2.776345e+09   \n",
       "\n",
       "       domestic_net_profit  worldwide_net_profit  \n",
       "count         5.782000e+03          5.782000e+03  \n",
       "mean          1.028557e+07          5.989970e+07  \n",
       "std           4.992137e+07          1.460889e+08  \n",
       "min          -3.072376e+08         -2.002376e+08  \n",
       "25%          -9.132757e+06         -2.189071e+06  \n",
       "50%          -3.487755e+05          8.550286e+06  \n",
       "75%           1.778144e+07          6.096850e+07  \n",
       "max           6.306622e+08          2.351345e+09  "
      ]
     },
     "execution_count": 12,
     "metadata": {},
     "output_type": "execute_result"
    }
   ],
   "source": [
    "#Checking exploratory analysis. \n",
    "df.describe()"
   ]
  },
  {
   "cell_type": "markdown",
   "metadata": {},
   "source": [
    "Production Budget: The average production budget for the movies in the dataset is approximately 50.37 million dollars, with a minimum of 1 million dollars and a maximum of 100 million dollars. The standard deviation is around 28.82 million dollars, indicating significant variability in production budgets.\n",
    "\n",
    "Domestic and Worldwide Gross: The average domestic gross revenue is approximately 31.59 million dollars, and the average worldwide gross revenue is around 41.87 million dollars. Both domestic and worldwide gross revenues have a wide range, with the maximum values reaching as high as 425 million dollars and 936 million dollars, respectively.\n",
    "\n",
    "Domestic and Worldwide Net Profit: The average domestic net profit is approximately 10.29 million dollars, and the average worldwide net profit is about 59.90 million dollars. The standard deviation is relatively high for both net profits, indicating varying levels of profitability among the movies.\n",
    "\n",
    "Negative Net Profit: It's interesting to note that some movies in the dataset have negative net profits, both domestically and worldwide, indicating that they didn't make enough revenue to cover their production budget."
   ]
  },
  {
   "cell_type": "markdown",
   "metadata": {},
   "source": [
    "## Question 1: What types of movies are currently doing the best?"
   ]
  },
  {
   "cell_type": "markdown",
   "metadata": {},
   "source": [
    "To gain insights into the profitability of movies, we will analyze their financial performance in both domestic and worldwide markets. By examining the data, we can identify movies that achieved profitability solely in their domestic markets, those that succeeded in the global market, and those that managed to generate profits in both regions. This analysis will provide a comprehensive understanding of how movies performed in different markets and their overall financial success on a global scale."
   ]
  },
  {
   "cell_type": "code",
   "execution_count": 13,
   "metadata": {
    "scrolled": true
   },
   "outputs": [
    {
     "data": {
      "image/png": "[encoded data removed]",
      "text/plain": [
       "<Figure size 864x432 with 2 Axes>"
      ]
     },
     "metadata": {
      "needs_background": "light"
     },
     "output_type": "display_data"
    }
   ],
   "source": [
    "# List of movies that did not make a domestic profit.\n",
    "movies_domestically_loss = df[df['domestic_net_profit'] <= 0]['movie']\n",
    "num_movies_domestically_loss = len(movies_domestically_loss)\n",
    "\n",
    "# List of movies that did not make a worldwide profit.\n",
    "movies_worldwide_loss = df[df['worldwide_net_profit'] <= 0]['movie']\n",
    "num_movies_worldwide_loss = len(movies_worldwide_loss)\n",
    "\n",
    "# List of movies that made a domestic profit.\n",
    "movies_domestically_profit = df[df['domestic_net_profit'] > 0]['movie']\n",
    "num_movies_domestically_profit = len(movies_domestically_profit)\n",
    "\n",
    "# List of movies that made a worldwide profit.\n",
    "movies_worldwide_profit = df[df['worldwide_net_profit'] > 0]['movie']\n",
    "num_movies_worldwide_profit = len(movies_worldwide_profit)\n",
    "\n",
    "# Visualize the results.\n",
    "fig, (ax1,ax2) = plt.subplots(1,2,figsize=(12, 6))\n",
    "\n",
    "# Data for the first subplot.\n",
    "profit_labels1 = [\"Domestic Profit\",\"Worldwide Profit\"]\n",
    "profit_values1 = [num_movies_domestically_profit,num_movies_worldwide_profit]\n",
    "\n",
    "# Data for the second subplot.\n",
    "profit_labels2 = [\"Domestic Loss\", \"Worldwide Loss\"]\n",
    "profit_values2 = [num_movies_domestically_loss, num_movies_worldwide_loss]\n",
    "\n",
    "# Plotting the first subplot.\n",
    "ax1.bar(profit_labels1, profit_values1,color=(\"blue\",\"green\"))\n",
    "ax1.set_xlabel('Profitability')\n",
    "ax1.set_ylabel('Number of Movies')\n",
    "\n",
    "# Plotting the first subplot.\n",
    "ax2.bar(profit_labels2, profit_values2,color=(\"coral\",\"orange\"))\n",
    "ax2.set_xlabel('Profitability')\n",
    "ax2.set_ylabel('Number of Movies')\n",
    "\n",
    "# Set the main title at the center of the two subplots\n",
    "fig.suptitle('Movie Profitability Analysis', ha=\"center\", fontsize=16)\n",
    "\n",
    "# Adjust the layout to avoid overlapping labels.\n",
    "plt.tight_layout()\n",
    "\n",
    "#Changing amount of whitespace between the subplots\n",
    "plt.subplots_adjust(wspace = 0.4)\n",
    "\n",
    "# Show the plot.\n",
    "plt.show()\n"
   ]
  },
  {
   "cell_type": "markdown",
   "metadata": {},
   "source": [
    "The majority of movies in our dataset have managed to generate a profit on a global scale. This positive outcome suggests that our production strategy should focus on creating films with broad international appeal. In the next phase of our investigation, we will delve deeper into the specifics and identify some of the highly profitable movies that have succeeded in captivating a global audience. By gaining insights from these successful examples, we can refine our approach to producing movies that resonate with audiences worldwide."
   ]
  },
  {
   "cell_type": "code",
   "execution_count": 14,
   "metadata": {
    "scrolled": true
   },
   "outputs": [
    {
     "data": {
      "image/png": "[encoded data removed]",
      "text/plain": [
       "<Figure size 720x360 with 1 Axes>"
      ]
     },
     "metadata": {
      "needs_background": "light"
     },
     "output_type": "display_data"
    }
   ],
   "source": [
    "# Dataframe with movies that made a profit worldwide.\n",
    "movies_worldwide_profit_df = df[df['worldwide_net_profit'] > 0]\n",
    "\n",
    "# Select top N rows.\n",
    "N = 5\n",
    "\n",
    "top_profitable_movies_df = movies_worldwide_profit_df.sort_values(by='worldwide_net_profit', ascending=False)\n",
    "top_five_profitable_movies_df = top_profitable_movies_df.head(N)\n",
    "\n",
    "# Plot the chart.\n",
    "plt.figure(figsize = (10,5))\n",
    "\n",
    "plt.bar(top_five_profitable_movies_df[\"movie\"],top_five_profitable_movies_df[\"worldwide_net_profit\"],color =\"teal\")\n",
    "\n",
    "# Set x,y and xtick labels.\n",
    "plt.xticks(rotation = 45)\n",
    "plt.xlabel(\"Movie\")\n",
    "plt.ylabel(\"Worldwide Net Profit\")\n",
    "plt.title(f\"Top {N} Most Profitable Movies with Positive Worldwide Net Profit\")\n",
    "\n",
    "# Show the chart.\n",
    "plt.show()"
   ]
  },
  {
   "cell_type": "markdown",
   "metadata": {},
   "source": [
    "The top five movies that successfully captivated a global audience are as follows:\n",
    "\n",
    "1.Avatar\n",
    "\n",
    "2.Titanic\n",
    "\n",
    "3.Avengers: Infinity War\n",
    "\n",
    "4.Star Wars Ep. VII: The Force Awakens\n",
    "\n",
    "5.Jurassic World\n",
    "\n",
    "Now, let's further analyze the movies that achieved profitability both domestically and worldwide. This analysis will help us identify the movies that not only garnered international attention but also performed well within their home country."
   ]
  },
  {
   "cell_type": "code",
   "execution_count": 15,
   "metadata": {},
   "outputs": [
    {
     "data": {
      "image/png": "[encoded data removed]",
      "text/plain": [
       "<Figure size 864x432 with 2 Axes>"
      ]
     },
     "metadata": {
      "needs_background": "light"
     },
     "output_type": "display_data"
    }
   ],
   "source": [
    "# Dataframe with profitable movies both domestically and worldwide.\n",
    "movies_profitable_df = df[(df['domestic_net_profit'] > 0) & (df['worldwide_net_profit'] > 0)]\n",
    "N = 5\n",
    "\n",
    "# Sort the DataFrame by 'worldwide_net_profit' column in descending order.\n",
    "top_movies_worldwide_df = movies_profitable_df.sort_values(by='worldwide_net_profit', ascending=False)\n",
    "top_movies_domestic_df = movies_profitable_df.sort_values(by='domestic_net_profit', ascending=False)\n",
    "\n",
    "# Select the top N rows.\n",
    "top_movies_worldwide_df = top_movies_worldwide_df.head(N)\n",
    "top_movies_domestic_df = top_movies_domestic_df.head(N)\n",
    "\n",
    "# Create the bar chart.\n",
    "fig,(ax1,ax2) = plt.subplots(1,2, figsize=(12, 6))\n",
    "\n",
    "ax1.bar(top_movies_worldwide_df['movie'], top_movies_worldwide_df['worldwide_net_profit'],color = \"brown\")\n",
    "ax2.bar(top_movies_domestic_df['movie'],top_movies_domestic_df['domestic_net_profit'],color = \"coral\")\n",
    "\n",
    "# Label the charts.\n",
    "ax1.set_xticks(range(N))\n",
    "ax1.set_xticklabels(top_movies_worldwide_df['movie'],rotation=90)\n",
    "ax1.set_xlabel('Movie')\n",
    "ax1.set_ylabel('Net Profit')\n",
    "ax1.set_title(f'Top {N} Most Profitable Movies - Worldwide')\n",
    "\n",
    "ax2.set_xticks(range(N))\n",
    "ax2.set_xticklabels(top_movies_domestic_df['movie'],rotation=90)\n",
    "ax2.set_xlabel('Movie')\n",
    "ax2.set_ylabel('Net Profit')\n",
    "ax2.set_title(f'Top {N} Most Profitable Movies - Domestic')\n",
    "\n",
    "# Adjust the layout to avoid overlapping labels.\n",
    "plt.tight_layout()\n",
    "\n",
    "#Changing amount of whitespace between the subplots\n",
    "plt.subplots_adjust(wspace = 0.4,bottom = 0.4)\n",
    "\n",
    "# Show the plot.\n",
    "plt.show()\n"
   ]
  },
  {
   "cell_type": "markdown",
   "metadata": {},
   "source": [
    "Based on the visualization, it is evident that movies like Titanic, Jurassic World, and Star Wars Ep.VII: The Force Awakens have emerged as the top-performing movies in terms of profitability, both domestically and worldwide. These movies serve as strong examples of successful ventures that we highly recommend for our company X. Their outstanding performance in generating profits makes them ideal choices for potential investments or collaborations."
   ]
  },
  {
   "cell_type": "markdown",
   "metadata": {},
   "source": [
    "## Question 2: What is the profitability of movie production over time?"
   ]
  },
  {
   "cell_type": "code",
   "execution_count": 16,
   "metadata": {
    "scrolled": true
   },
   "outputs": [
    {
     "data": {
      "image/png": "[encoded data removed]",
      "text/plain": [
       "<Figure size 1152x576 with 2 Axes>"
      ]
     },
     "metadata": {},
     "output_type": "display_data"
    }
   ],
   "source": [
    "# Convert the release_date column to a datetime data type.\n",
    "df[\"release_date\"] = pd.to_datetime(df[\"release_date\"])\n",
    "\n",
    "# Group the data by release date and calculate the mean net profit for each date.\n",
    "profit_by_release_date = df.groupby(\"release_date\").mean().reset_index()\n",
    "\n",
    "# Create subplots.\n",
    "fig, (ax1, ax2) = plt.subplots(1, 2, figsize=(16, 8),facecolor=\"white\")\n",
    "\n",
    "# Plot domestic net profit over time.\n",
    "ax1.plot(profit_by_release_date[\"release_date\"], profit_by_release_date[\"domestic_net_profit\"],color = \"green\")\n",
    "ax1.set_xlabel(\"Release Date\")\n",
    "ax1.set_ylabel(\"Domestic Net Profit\")\n",
    "ax1.set_title(\"Domestic Net Profit Over Time\")\n",
    "ax1.tick_params(rotation=45)\n",
    "\n",
    "# Plot worldwide net profit over time.\n",
    "ax2.plot(profit_by_release_date[\"release_date\"], profit_by_release_date[\"worldwide_net_profit\"],color = \"blue\")\n",
    "ax2.set_xlabel(\"Release Date\")\n",
    "ax2.set_ylabel(\"Worldwide Net Profit\")\n",
    "ax2.set_title(\"Worldwide Net Profit Over Time\")\n",
    "ax2.tick_params(rotation=45)\n",
    "\n",
    "# Adjust the layout to avoid overlapping labels.\n",
    "plt.tight_layout()\n",
    "\n",
    "#Changing amount of whitespace between the subplots\n",
    "plt.subplots_adjust(wspace = 0.4,bottom = 0.4)\n",
    "\n",
    "# Show the plot.\n",
    "plt.show()"
   ]
  },
  {
   "cell_type": "code",
   "execution_count": 17,
   "metadata": {
    "scrolled": true
   },
   "outputs": [
    {
     "name": "stdout",
     "output_type": "stream",
     "text": [
      "The latest movie in our dataset was released on 12-31-2020.\n"
     ]
    }
   ],
   "source": [
    "# Convert the 'release_date' column to datetime format.\n",
    "df.release_date = pd.to_datetime(df.release_date).dt.strftime(\"%m-%d-%Y\")\n",
    "\n",
    "# Extract all release dates into a list.\n",
    "release_dates = [i for i in df.release_date]\n",
    "\n",
    "# Find the latest release date.\n",
    "latest_release_date = max(release_dates)\n",
    "\n",
    "print(f\"The latest movie in our dataset was released on {latest_release_date}.\")"
   ]
  },
  {
   "cell_type": "markdown",
   "metadata": {},
   "source": [
    "The movie industry has been producing films since 1920, and it continues to thrive up to the present day, with the latest movie released on December 31, 2020. Over the years, there has been a noticeable upward trend in both domestic and worldwide profits, particularly up to the 1950s.However, in recent times, there have been instances where certain movies failed to generate a profit. Despite these occasional setbacks, the movie industry, on the whole, has shown remarkable consistency in its profitability over the years, indicating a strong and enduring success in the entertainment market.'"
   ]
  },
  {
   "cell_type": "markdown",
   "metadata": {},
   "source": [
    "# Question 3: Does the production budget has an effect on the profit?"
   ]
  },
  {
   "cell_type": "code",
   "execution_count": 18,
   "metadata": {},
   "outputs": [
    {
     "data": {
      "image/png": "[encoded data removed]",
      "text/plain": [
       "<Figure size 864x432 with 2 Axes>"
      ]
     },
     "metadata": {
      "needs_background": "light"
     },
     "output_type": "display_data"
    }
   ],
   "source": [
    "# Create subplots for scatter plots.\n",
    "fig,(ax1,ax2) = plt.subplots(1,2,figsize = (12,6))\n",
    "\n",
    "movies_domestically_profit_df = df[df['domestic_net_profit'] > 0]\n",
    "\n",
    "# Plot the scatter plots.\n",
    "ax1.scatter(movies_domestically_profit_df[\"production_budget\"],movies_domestically_profit_df[\"domestic_net_profit\"])\n",
    "ax2.scatter(movies_domestically_profit_df[\"production_budget\"],movies_domestically_profit_df[\"worldwide_net_profit\"])\n",
    "\n",
    "# Set axis labels and titles.\n",
    "ax1.set_xlabel(\"Production Budget\")\n",
    "ax1.set_ylabel(\"Domestic Net Profit\")\n",
    "ax1.set_title(\"Production Budget Vs Domestic Net Profit\")\n",
    "\n",
    "ax2.set_xlabel(\"Production Budget\")\n",
    "ax2.set_ylabel(\"Worldwide Net Profit\")\n",
    "ax2.set_title(\"Production Budget Vs Worldwide Net Profit\")\n",
    "\n",
    "\n",
    "# Adjust layout for better visualization.\n",
    "plt.tight_layout()\n",
    "\n",
    "#Changing amount of whitespace between the subplots\n",
    "plt.subplots_adjust(wspace = 0.4)\n",
    "\n",
    "#Show plot.\n",
    "plt.show()"
   ]
  },
  {
   "cell_type": "markdown",
   "metadata": {},
   "source": [
    "The scatter plot provides clear evidence of a positive relationship between the production budget and net profit, both domestically and worldwide. As the production budget increases, there is a noticeable upward trend in both domestic and worldwide net profits. This suggests that higher investments in movie production have a direct impact on the financial success of the movies, leading to higher returns both in the domestic market and on a global scale."
   ]
  },
  {
   "cell_type": "code",
   "execution_count": 19,
   "metadata": {},
   "outputs": [
    {
     "data": {
      "text/plain": [
       "0.4555144510725651"
      ]
     },
     "execution_count": 19,
     "metadata": {},
     "output_type": "execute_result"
    }
   ],
   "source": [
    "# Correlation coeffienct for 'production_budget' and 'domestic_net_profit'.\n",
    "correlation_domestic = movies_profitable_df[\"production_budget\"].corr(movies_profitable_df[\"domestic_net_profit\"])\n",
    "correlation_domestic"
   ]
  },
  {
   "cell_type": "code",
   "execution_count": 20,
   "metadata": {},
   "outputs": [
    {
     "data": {
      "text/plain": [
       "0.7727206453311145"
      ]
     },
     "execution_count": 20,
     "metadata": {},
     "output_type": "execute_result"
    }
   ],
   "source": [
    "# Correlation coeffienct for 'production_budget' and 'worldwide_net_profit'.\n",
    "correlation_worldwide = movies_profitable_df[\"production_budget\"].corr(movies_profitable_df[\"worldwide_net_profit\"])\n",
    "correlation_worldwide"
   ]
  },
  {
   "cell_type": "markdown",
   "metadata": {},
   "source": [
    "The analysis reveals that there is a moderate positive correlation (correlation coefficient = 0.4) between the production budget and domestic net profit, indicating that as the production budget increases, the domestic net profit also tends to increase.\n",
    "\n",
    "Furthermore, there is a strong correlation (correlation coefficient = 0.7) between the production budget and worldwide profit, suggesting that a higher production budget is often associated with higher worldwide profits. In other words, as the budget for a movie increases, it has a greater potential to generate higher profits on a global scale."
   ]
  },
  {
   "cell_type": "markdown",
   "metadata": {},
   "source": [
    "# Conclusion"
   ]
  },
  {
   "cell_type": "markdown",
   "metadata": {},
   "source": [
    "Our analysis revealed valuable insights into the movie industry from 1920 to 2020. Most movies achieved international profitability, emphasizing the importance of global appeal in our production strategy. Movies like Avatar, Titanic, Avengers: Infinity War, Star Wars Ep. VII: The Force Awakens, and Jurassic World serve as excellent examples for our international-focused approach.\n",
    "\n",
    "Additionally, certain movies, such as Titanic, Jurassic World, and Star Wars Ep.VII: The Force Awakens, succeeded in both domestic and international markets, guiding us when targeting the domestic audience.\n",
    "\n",
    "The movie industry has shown consistent growth since 1920, indicating a resilient and captivating market that presents exciting opportunities for our company.\n",
    "\n",
    "Furthermore, our analysis demonstrated a strong correlation between production budget and movie profitability, highlighting the significance of strategic financial planning and investment.\n",
    "\n",
    "Overall, by prioritizing global appeal, learning from successful movies, and strategic budget allocation, we can position ourselves for success in this dynamic and thriving industry."
   ]
  },
  {
   "cell_type": "code",
   "execution_count": null,
   "metadata": {},
   "outputs": [],
   "source": []
  }
 ],
 "metadata": {
  "kernelspec": {
   "display_name": "Python (learn-env)",
   "language": "python",
   "name": "learn-env"
  },
  "language_info": {
   "codemirror_mode": {
    "name": "ipython",
    "version": 3
   },
   "file_extension": ".py",
   "mimetype": "text/x-python",
   "name": "python",
   "nbconvert_exporter": "python",
   "pygments_lexer": "ipython3",
   "version": "3.8.5"
  }
 },
 "nbformat": 4,
 "nbformat_minor": 4
}
